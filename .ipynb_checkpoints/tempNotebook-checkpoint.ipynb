{
 "cells": [
  {
   "cell_type": "code",
   "execution_count": 81,
   "metadata": {},
   "outputs": [],
   "source": [
    "import pandas as pd\n",
    "from leetcode_scrape import getData"
   ]
  },
  {
   "cell_type": "code",
   "execution_count": 82,
   "metadata": {},
   "outputs": [],
   "source": []
  },
  {
   "cell_type": "code",
   "execution_count": 83,
   "metadata": {},
   "outputs": [
    {
     "data": {
      "text/html": [
       "<div>\n",
       "<style scoped>\n",
       "    .dataframe tbody tr th:only-of-type {\n",
       "        vertical-align: middle;\n",
       "    }\n",
       "\n",
       "    .dataframe tbody tr th {\n",
       "        vertical-align: top;\n",
       "    }\n",
       "\n",
       "    .dataframe thead th {\n",
       "        text-align: right;\n",
       "    }\n",
       "</style>\n",
       "<table border=\"1\" class=\"dataframe\">\n",
       "  <thead>\n",
       "    <tr style=\"text-align: right;\">\n",
       "      <th></th>\n",
       "      <th>Name</th>\n",
       "      <th>Email</th>\n",
       "      <th>LeetCode_User</th>\n",
       "      <th>Codeforces_User</th>\n",
       "    </tr>\n",
       "  </thead>\n",
       "  <tbody>\n",
       "    <tr>\n",
       "      <th>0</th>\n",
       "      <td>Tanay</td>\n",
       "      <td>singhaniatanay18@gmail.com</td>\n",
       "      <td>singhaniatanay</td>\n",
       "      <td>something</td>\n",
       "    </tr>\n",
       "    <tr>\n",
       "      <th>1</th>\n",
       "      <td>Monil</td>\n",
       "      <td>bansalmonil7@gmail.com</td>\n",
       "      <td>sparshsirkijai</td>\n",
       "      <td>mrBansal</td>\n",
       "    </tr>\n",
       "    <tr>\n",
       "      <th>2</th>\n",
       "      <td>Sampriti</td>\n",
       "      <td>ysampriti@gmail.com</td>\n",
       "      <td>ysampriti</td>\n",
       "      <td>ysampriti69</td>\n",
       "    </tr>\n",
       "  </tbody>\n",
       "</table>\n",
       "</div>"
      ],
      "text/plain": [
       "       Name                       Email   LeetCode_User Codeforces_User\n",
       "0     Tanay  singhaniatanay18@gmail.com  singhaniatanay       something\n",
       "1     Monil      bansalmonil7@gmail.com  sparshsirkijai        mrBansal\n",
       "2  Sampriti         ysampriti@gmail.com       ysampriti     ysampriti69"
      ]
     },
     "execution_count": 83,
     "metadata": {},
     "output_type": "execute_result"
    }
   ],
   "source": []
  },
  {
   "cell_type": "code",
   "execution_count": 102,
   "metadata": {},
   "outputs": [
    {
     "name": "stderr",
     "output_type": "stream",
     "text": [
      "/Users/tanaysinghania/Documents/CODING/leetcode_leaderboard/leetcode_scrape.py:8: UserWarning: No parser was explicitly specified, so I'm using the best available HTML parser for this system (\"lxml\"). This usually isn't a problem, but if you run this code on another system, or in a different virtual environment, it may use a different parser and behave differently.\n",
      "\n",
      "The code that caused this warning is on line 8 of the file /Users/tanaysinghania/Documents/CODING/leetcode_leaderboard/leetcode_scrape.py. To get rid of this warning, pass the additional argument 'features=\"lxml\"' to the BeautifulSoup constructor.\n",
      "\n",
      "  soup = BeautifulSoup(html_doc)\n"
     ]
    }
   ],
   "source": [
    "df = pd.read_csv('./userDatabase.csv')\n",
    "userLeetcode_Datas = []\n",
    "for i in df['LeetCode_User']:\n",
    "    userLeetcode_Datas.append(getData(i))\n",
    "\n",
    "df_leetcode = pd.DataFrame(userLeetcode_Datas)\n",
    "df_leetcode.to_csv('leetcode_usr_data.csv',index=False)"
   ]
  },
  {
   "cell_type": "code",
   "execution_count": 105,
   "metadata": {},
   "outputs": [],
   "source": []
  },
  {
   "cell_type": "code",
   "execution_count": 72,
   "metadata": {},
   "outputs": [],
   "source": []
  },
  {
   "cell_type": "code",
   "execution_count": null,
   "metadata": {},
   "outputs": [],
   "source": [
    "from bs4 import BeautifulSoup\n",
    "import requests\n",
    "\n",
    "def getData(userID):\n",
    "    url = 'https://leetcode.com/{}/'.format(userID)\n",
    "    r = requests.get(url)\n",
    "    html_doc = r.text\n",
    "    soup = BeautifulSoup(html_doc)\n",
    "\n",
    "    rows = soup.find_all('span','badge')\n",
    "    ans = []\n",
    "    c1 = eval(rows[0].text.strip())\n",
    "    if c1==0:\n",
    "        ans = rows[1:4]\n",
    "    else:\n",
    "        ans = rows[3:6]\n",
    "\n",
    "    ans = [x.text.strip() for x in ans]\n",
    "\n",
    "    dic = {'User' : userID,\n",
    "        'Solved Questions' : int(ans[0][:ans[0].find('/')].strip()),\n",
    "           'Total Questions' : int(ans[0][ans[0].find('/')+1:].strip()),\n",
    "          'Accepted Submissions' : int(ans[1][:ans[1].find('/')].strip()),\n",
    "           'Total Submissions' : int(ans[1][ans[1].find('/')+1:].strip()),\n",
    "          'Acceptance Rate' : eval(ans[2][:ans[2].find('%')].strip())}\n",
    "    \n",
    "    return dic"
   ]
  },
  {
   "cell_type": "code",
   "execution_count": null,
   "metadata": {},
   "outputs": [],
   "source": [
    "\n"
   ]
  },
  {
   "cell_type": "code",
   "execution_count": null,
   "metadata": {},
   "outputs": [],
   "source": []
  },
  {
   "cell_type": "code",
   "execution_count": null,
   "metadata": {},
   "outputs": [],
   "source": []
  }
 ],
 "metadata": {
  "kernelspec": {
   "display_name": "Python 3",
   "language": "python",
   "name": "python3"
  },
  "language_info": {
   "codemirror_mode": {
    "name": "ipython",
    "version": 3
   },
   "file_extension": ".py",
   "mimetype": "text/x-python",
   "name": "python",
   "nbconvert_exporter": "python",
   "pygments_lexer": "ipython3",
   "version": "3.7.6"
  }
 },
 "nbformat": 4,
 "nbformat_minor": 4
}
