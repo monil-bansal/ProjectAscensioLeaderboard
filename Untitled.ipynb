{
 "cells": [
  {
   "cell_type": "code",
   "execution_count": 7,
   "metadata": {},
   "outputs": [
    {
     "name": "stdout",
     "output_type": "stream",
     "text": [
      "{'User': 'singhaniatanay', 'Solved Questions': 64, 'Total Questions': 1612, 'Accepted Submissions': 95, 'Total Submissions': 160, 'Acceptance Rate': 59.4}\n"
     ]
    }
   ],
   "source": [
    "url = 'https://leetcode.com/{}/'.format('singhaniatanay')\n",
    "r = requests.get(url)\n",
    "html_doc = r.text\n",
    "soup = BeautifulSoup(html_doc)\n",
    "\n",
    "rows = soup.find_all('span','badge')\n",
    "ans = []\n",
    "c1 = eval(rows[0].text.strip())\n",
    "if c1==0:\n",
    "    ans = rows[1:4]\n",
    "else:\n",
    "    ans = rows[3:6]\n",
    "\n",
    "ans = [x.text.strip() for x in ans]\n",
    "\n",
    "dic = {'User' : 'singhaniatanay',\n",
    "    'Solved Questions' : int(ans[0][:ans[0].find('/')].strip()),\n",
    "       'Total Questions' : int(ans[0][ans[0].find('/')+1:].strip()),\n",
    "      'Accepted Submissions' : int(ans[1][:ans[1].find('/')].strip()),\n",
    "       'Total Submissions' : int(ans[1][ans[1].find('/')+1:].strip()),\n",
    "      'Acceptance Rate' : eval(ans[2][:ans[2].find('%')].strip())}\n",
    "\n",
    "print(dic)"
   ]
  },
  {
   "cell_type": "code",
   "execution_count": 5,
   "metadata": {},
   "outputs": [],
   "source": [
    "from bs4 import BeautifulSoup\n",
    "import requests,os"
   ]
  },
  {
   "cell_type": "code",
   "execution_count": null,
   "metadata": {},
   "outputs": [],
   "source": []
  }
 ],
 "metadata": {
  "kernelspec": {
   "display_name": "Python 3",
   "language": "python",
   "name": "python3"
  },
  "language_info": {
   "codemirror_mode": {
    "name": "ipython",
    "version": 3
   },
   "file_extension": ".py",
   "mimetype": "text/x-python",
   "name": "python",
   "nbconvert_exporter": "python",
   "pygments_lexer": "ipython3",
   "version": "3.7.6"
  }
 },
 "nbformat": 4,
 "nbformat_minor": 4
}
